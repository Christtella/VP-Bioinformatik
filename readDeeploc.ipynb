{
 "cells": [
  {
   "cell_type": "code",
   "execution_count": null,
   "metadata": {
    "dotnet_interactive": {
     "language": "fsharp"
    },
    "vscode": {
     "languageId": "dotnet-interactive.fsharp"
    }
   },
   "outputs": [
    {
     "data": {
      "text/html": [
       "<div><div></div><div></div><div><strong>Installed Packages</strong><ul><li><span>Deedle, 3.0.0</span></li><li><span>Deedle.Interactive, 3.0.0</span></li><li><span>FSharp.Data, 6.3.0</span></li><li><span>FSharp.Stats, 0.4.12-preview.2</span></li><li><span>Plotly.NET, 4.2.0</span></li><li><span>Plotly.NET.Interactive, 4.2.1</span></li></ul></div></div>"
      ]
     },
     "metadata": {},
     "output_type": "display_data"
    }
   ],
   "source": [
    "#r \"nuget: FSharp.Stats, 0.4.12-preview.2\"\n",
    "#r \"nuget: Plotly.NET\"\n",
    "#r \"nuget: Plotly.NET.Interactive\"\n",
    "#r \"nuget: Deedle, 3.0.0\"\n",
    "#r \"nuget: Deedle.Interactive, 3.0.0\"\n",
    "#r \"nuget: FSharp.Data\"\n",
    "\n",
    "open FSharp.Data\n",
    "open FSharp.Stats\n",
    "open System\n",
    "open Plotly.NET\n",
    "open Plotly.NET.Interactive\n",
    "open Deedle"
   ]
  },
  {
   "cell_type": "code",
   "execution_count": null,
   "metadata": {
    "dotnet_interactive": {
     "language": "fsharp"
    },
    "vscode": {
     "languageId": "dotnet-interactive.fsharp"
    }
   },
   "outputs": [
    {
     "data": {
      "text/html": [
       "<div>\r\n",
       "<style scoped>,\r\n",
       "  .dataframe tbody tr th:only-of-type {\r\n",
       "    vertical-align: middle;\r\n",
       "  }\r\n",
       "  .dataframe tbody tr th {,\r\n",
       "    vertical-align: top\r\n",
       "  }\r\n",
       "  .dataframe thead th {\r\n",
       "    text-align: right;\r\n",
       "  }\r\n",
       "  .no-wrap {\r\n",
       "    white-space: nowrap;\r\n",
       "  }\r\n",
       "</style>\r\n",
       "<table border='1' class='dataframe'>\r\n",
       "<thead><th></th><th></th><th>input</th><th>loc</th><th>membrane</th></thead><thead><th></th><th></th><th>(string)</th><th>(string)</th><th>(string)</th></thead>\r\n",
       "<tr><td><b>0</b></td><td class=\"no-wrap\">-></td><td>M G L P V S W A P P A L W V L G C C A L L L S L W A L C T A C R R P E D A V A P R K R A R R Q R A R L Q G S A T A A E A S L L R R T H L C SL S K S D T R L H E L H R G P R S S R A L R P A S M D L L R P H W L E V S R D I T G P Q A A P S A F P H Q E L P R A L P A A A A T A G C A GL E A T Y S N V G L A A L P G V S L A A S P V V A E Y A R V Q K R K G T H R S P Q E P Q Q G K T E V T P A A Q V D V L Y S R V C K P K R R DP G P T T D P L D P K G Q G A I L A L A G D L A Y Q T L P L R A L D V D S G P L E N V Y E S I R E L G D P A G R S S T C G A G T P P A S S CP S L G R G W R P L P A S L P</td><td>Cell.membrane</td><td>M</td></tr><tr><td><b>1</b></td><td class=\"no-wrap\">-></td><td>M H S R L K F L A Y L H F I C A S S I F W P E F S S A Q Q Q Q Q T V S L T E K I P L G A I F E Q G T D D V Q S A F K Y A M L N H N L N V S SR R F E L Q A Y V D V I N T A D A F K L S R L I C N Q F S R G V Y S M L G A V S P D S F D T L H S Y S N T F Q M P F V T P W F P E K V L A PS S G L L D F A I S M R P D Y H Q A I I D T I Q Y Y G W Q S I I Y L Y D S H D G L L R L Q Q I Y Q E L K P G N E T F R V Q M V K R I A N V TM A I E F L H T L E D L G R F S K K R I V L D C P A E M A K E I I V Q H V R D I K L G R R T Y H Y L L S G L V M D N H W P S D V V E F G A IN I T G F R I V D S N R R A V R D F H D S R K R L E P S G Q S Q S Q N A G G P N S L P A I S A Q A A L M Y D A V F V L V E A F N R I L R K KP D Q F R S N H L Q R R S H G G S S S S S A T G T N E S S A L L D C N T S K G W V T P W E Q G E K I S R V L R K V E I D G L S G E I R F D ED G R R I N Y T L H V V E M S V N S T L Q Q V A E W R D D A G L L P L H S H N Y A S S S R S A S A S T G D Y D R N H T Y I V S S L L E E P YL S L K Q Y T Y G E S L V G N D R F E G Y C K D L A D M L A A Q L G I K Y E I R L V Q D G N Y G A E N Q Y A P G G W D G M V G E L I R K E AD I A I S A M T I T A E R E R V I D F S K P F M T L G I S I M I K K P V K Q T P G V F S F L N P L S Q E I W I S V I L S Y V G V S F V L Y FV T R F P P Y E W R I V R R P Q A D S T A Q Q P P G I I G G A T L S E P Q A H V P P V P P N E F T M L N S F W Y S L A A F M Q Q G C D I T PP S I A G R I A A A V W W F F T I I L I S S Y T A N L A A F L T V E R M V A P I K T P E D L T M Q T D V N Y G T L L Y G S T W E F F R R S QI G L H N K M W E Y M N A N Q H H S V H T Y D E G I R R V R Q S K G K Y A L L V E S P K N E Y V N A R P P C D T M K V G R N I D T K G F G VA T P I G S P L R K R L N E A V L T L K E N G E L L R I R N K W W F D K T E C N L D Q E T S T P N E L S L S N V A G I Y Y I L I G G L L L AV I V A I M E F F C R N K T P Q L K S P G S N G S A G G V P G M L A S S T Y Q R D S L S D A I M H S Q A K L A M Q A S S E Y D E R L V G V EL A S N V R Y Q Y S M</td><td>Cell.membrane</td><td>M</td></tr><tr><td><b>2</b></td><td class=\"no-wrap\">-></td><td>M V F S Y A C M V L Q R I V V P A V L V L A A L M R P V G I S F V Y L L M F F V S P F V P L A T R R N F K G S V T A F F I I L L T L S T L VL L G H I T L Q I L A V S L T L P I Y N C S F S E R L L R H I G F V S F I D L Q P F A I I E W L V P E V L V F A T S L G S Y L T V K R V A SQ P V G A E Q L E N G E V V D G Q A E N A Q T S S Q P S A A D A N G G D V Q Q A T V T T P L Q Q Q Q Q Q L R K R V S M I S Q H I H F E G L VK I S P L F C L A T L F F A A V L R P S V P G G F Y F L I F L L S G T Y W A T C Q T L Q R G F A L L L R C V M V V L V L H S L S I V S Y Q TP W M Q S H L N H T T L T A R L I G L E P L I E S Y C S P D I R V F L Y N N K L S L D S Y L N P F A L F F A Y F A L A L T T K H L I K P R LV R Q S T R K A R T P Q P L E S G S S V A P S V T Q R G N D M Q L E S M E Q R S E Q E N T T T S I L D Q I S Y G F V S V G G F I Y Q N S Y IF T N I L M M A W S I V Y H S W L T F V L L L S A N V L W M I P N Q R K A M M R S S P F I V L Y A E A L L I A Q Y I Y G M D L N N E E L P TS V P T A G I N L Q Q I G F E R P I E N Q M R P C V P L I V K T A F V L M F W V T S R Q F F K E K R D R R R D S T L A D F I A P L Q I T V GS A G S S Y L I N D G K K T S K F L K K A G D V I K N L L V R L W I W L L V L V I F L C A I T G E N M T G F R I C Y M A L F L F F L L V F QS S S K A W V K I M Y G F W L F L I F Y A M S I L I L I Y T Y Q F D K F D T Y W S D Y L N V S A T L Q K D I G L K R Y Q T K D L F L H L V SP T I I V I L T V I Q V H Y F H K R F I A S L Q Q Q P L A G G S A Q Q K P T E T T A L E P A P S K R R G S A G S L R K S Q G P S A E A A P GA T T D F E T S V R D L V R I S F R K I K N K S E Y I F K N F K D V F W R F L E L H I M K A V Y I A A F V C S V S E V C V L H I I F V G F CV L G A T S R K A V Q V V I S R L I S F I V T V I V L S K M I Y Q I E Y L S H S Q H N V V C S D N R T A N N A E W I G L T K A D K V T G G LM S L L R T Y I I Y M V I V T M H A V I S L R Q L Q M R V K I G A L N A P P T K L L F P N I I R A D A E K D L V G L V K Y L L N F G F Y K FG I E I S L I A L V S T I T Y R Q D I V A V V Y A L W L V V L L L L R R S Q C A K I W G V F Q A F F A I S I L T Q Y I V L V G L P P S S C LV F P W D E G P F G E G I Q R W A M L P G A L H F N H V P K L I F D F I V L V I L N R Q K S I F C I E Q R Y A S N D D Y P G G S N R S V I AD I A Q L G R V P F D N P T H D F C S Y I R N Y S D I L K N G V L C G F Y W F T L A V V F L A G T N I A D L L A L G Y L I G A F I F L W Q GS D F Y L R P I H T I I F R W K W L L A F N V A N I L I K T S F Q M A G C L F M T Q L T K D C C W L V H M L G I T C T S N V L T E Q I M L PE E A E L A L K P G E C P K I T H Q V V L L W D T I C F A F I I F Q L R I F K S H Y F C H I I T D T K A N N I L A S R G A D I I E S L R H KQ I A H R H D H E K Q V L H K I K R K M E R I R A T Q Q K M L R P L D K Q T H F D E H G Y P L P A P T V R R R K E I K L H P H A T R A G D YY M F E E M D D K F E L D L I H D E I D F L E E E N I T E S E M K M Q R R K T L Y D K S K D A P T G E F P S T S K G I S K E R D A A T A S SS A S P A P T R D V G D L P V I P P P S T G L G R E Q T S K E T S D S K S K M E V D S G E V T A K D S D E D F D T N P I I R L L E G F L V TL T I R L N R F S R N Y R F V N R I L A G E K K T L K E S S S L N R L G L S S A A A M F H F L K S N L E S D E S E P P A S S S T P R R V V IA P P N A T E H S D P T S T T L N T N T T T T P L S P P E P L Q P L Q P L Q P N T T S T P Q Q Q H Q H I R A A E E I I E L P V D T V D G V AH R K Q S I N S S P P A K G A G E F N L E E E N F A Q R D H H I I V E V L I S S W Y A L L A N T D L I C Y I V V F I N Q V V N A S L I S L PL P I M V F L W G T L S L P R P T K T F W V T L I A Y T Q A I V L I K C I F Q F K L I W S N Y H Q L P N Q P L T P A K I F G V E N K A H Y AI Y D L I L L L V L F L H R Y L L K S Q G L W K S G Y K D T D N Q F T K P T A S I D E R D D S D N L S Q P D S R Q L N D D A A Q K L S L Q VS Q A S L P G S P E F S K T G I N Q L E R T K Y T S S L Y K F F F S L V H K S R L A T D V Y A L M F L C D F V N F F V L L F G F T A F G T QQ T E S D E G V Q T Y L A E N K V P I P F L I M L L V Q F L L I V I D R A L Y L R K A L V N K I I F H F F S V I G I H I W M F F V V P A V TE R T F N S L A P P I I F Y V I K C F Y M L L S S Y Q I K S G Y P K R I L G N F F T K G F S M V N M I A F K V Y M Q I P F L Y E L R T I L DW V C I D S T M T I F D W L K M E D I F S N I Y L I R C T R Q S E T D F P A M R A Q K K A S L S K L I M G G T I V L L I V I C I W G P L C LF A L G N A V G T S N V P F H V S L S I R I G P Y D P I Y T T N N Y D S I F E I N P E M Y S Q M T N A Y I K E K Q A L T F I A G Y D A T D VA A V R L A G N S P S L W N I A P P D R Q R L L N D L R N N H T L K A R F S Y S L T R K A P A K G L K E N V G D E H A I S L D E S F E G R AA L I H M L S E T H D V E P I Y S N G T T N G T T P E V E E V V V I P G M I P K F I K V L N S G D A A V V S V L S P K H Y D Y R P L V I K MH R D N E T N G L W W E I R D Y C N D T F Y N E T L S K F A Y S N C T S G I V M Y T F N D K K F P S T F S F L T A G G I I G L Y T T F V L LA S R F M K S F I G G Q N R K I M F E D L P Y V D R V L Q L C L D I Y L V R E A L E F A L E E D L F A K L L F L Y R S P E T L I K W T R P KE E Y V D D D G D T D S I P S R M S V R R P E Q L Q P Q Q P Q</td><td>Cell.membrane</td><td>M</td></tr><tr><td><b>3</b></td><td class=\"no-wrap\">-></td><td>M D F L R L Y L P G L H Q A L R G A L D S L G T F V S Y L L G D A V P T V E R E A Q A A E E L G V V A V G K T G K I V E E E A Q E D L E G LR G S Q N E G A G R L R G P G D D R R H E V G S S A V E Q T W G W G D G S S H G S Q A E R Q D S G A G E T A K A A R C Q E P S A H L E A R KK S K A G S G A C Q D R S G Q A Q E R Q E S H E Q E V N R E E R L R S W E Q E E E E E E V R A R E P G M A R G A E S E W T W H G E T E G K AG A V G P K A A G D N R E M E Q G V R E A D A G E T E E P G A E G A G K G E E V V V V E K A C E S T R A W G T W G P G A E P E D W G I L G RE E A R T T P G R E E A R A I L D G E E A R T I S G G E E A E T A S G G E E A E T A S G G E E A G T A S G G E E A G I A S G G E A G T A S GG E E A G T A S G G D E A W T T S G K E E A D L L G V R Q T E Y G A V P G E R L L E A T G K V W V L E E E G D E E R E A E V S P F P K Q P QV L G T E R T E E A A E S Q T A G R E A V G G Q E A G E S F E G Q V D L R G K E A E M R Q D L G I R A D R A R M E E L V Q A E E A Q E E R GS S R D P V A E L P S D G E A E G T A D L E A T P E A R P E E E L T G E E S E A A Q T S C G L L G V E W G G L T H S V T K G Q G P E L M G GA Q T P T K Q P E E R E A G E V E L M G V L A L S K E E Q E R S L E A G P R H A G S V K P E A S E A F P G A W E N R T R K D M E R G N T Q ED A A D G E Q R E E E E T A G G Q T L A A E A E G D R E S E L S E V P E A G G E G L T T Q D A G C G T E E G E A S V S E N Q E L D G S T G AD A G P C P S L G E A Y A R E T E D E E A E A D R T S R R G W R L Q A V A V G L P D R E D A Q T G S V A A G I M G G D V V P H I S A A G A GE A L E G V L G Q G W D S K E K E E A A A G E H A G G Q E F G L E G S A E E E V T G R G S Q V E A F E S R E G G P W G G R V E A E E S A G AE D S C G L D P A G S Q T A R A E G M G A M V E A G G L L E K W T L L E E E A V G W Q E R E Q R E D S E G R C G D Y H P E G E A P R L L D AE G L M V T G G R R A E A K E T E P E S L E H V R G Q E E Q P T H Q A P A E A A P E S V G E A E T A E A M G S A R G G A A N S W S E A P L PG S L L D V S V P R S R V H L S R S S S Q R R S R P S F R R T P A W E Q Q E E P P A P N P P E E E L S A P E Q R P L Q L E E P L E P S P L RH D G T P V P A R R R P L G H G F G L A H P G M M Q E L Q A R L G R P K P Q</td><td>Cell.membrane</td><td>M</td></tr><tr><td><b>4</b></td><td class=\"no-wrap\">-></td><td>M N Q V T I Q W D A V I A L Y I L F S W C H G G I T N I N C S G H I W V E P A T I F K M G M N I S I Y C Q A A I K N C Q P R K L H F Y K N GI K E R F Q I T R I N K T T A R L W Y K N F L E P H A S M Y C T A E C P K H F Q E T L I C G K D I S S G Y P P D I P D E V T C V I Y E Y S GN M T C T W N A G K L T Y I D T K Y V V H V K S L E T E E E Q Q Y L T S S Y I N I S T D S L Q G G K K Y L V W V Q A A N A L G M E E S K Q LQ I H L D D I V I P S A A V I S R A E T I N A T V P K T I I Y W D S Q T T I E K V S C E M R Y K A T T N Q T W N V K E F D T N F T Y V Q Q SE F Y L E P N I K Y V F Q V R C Q E T G K R Y W Q P W S S L F F H K T P E T V P Q V T S K A F Q H D T W N S G L T V A S I S T G H L T S D NR G D I G L L L G M I V F A V M L S I L S L I G I F N R S F R T G I K R R I L L L I P K W L Y E D I P N M K N S N V V K M L Q E N S E L M NN N S S E Q V L Y V D P M I T E I K E I F I P E H K P T D Y K K E N T G P L E T R D Y P Q N S L F D N T T V V Y I P D L N T G Y K P Q I S NF L P E G S H L S N N N E I T S L T L K P P V D S L D S G N N P R L Q K H P N F A F S V S S V N S L S N T I F L G E L S L I L N Q G E C S SP D I Q N S V E E E T T M L L E N D S P S E T I P E Q T L L P D E F V S C L G I V N E E L P S I N T Y F P Q N I L E S H F N R I S L L E K</td><td>Cell.membrane</td><td>M</td></tr><tr><td><b>:</b></td><td class=\"no-wrap\"></td><td>...</td><td>...</td><td>...</td></tr><tr><td><b>1837</b></td><td class=\"no-wrap\">-></td><td>I I E C F F S C E I E K D G K S K E G K P C K P K G D K D K D K K C G G W R C K I K M C I K I</td><td>Extracellular</td><td>S</td></tr><tr><td><b>1838</b></td><td class=\"no-wrap\">-></td><td>M R V S V P V L A L A F G S L A A A A P N A G R R T C G S V P P P E F F E A S E K V A A L E E S G A F A D L Q A P I E V E T Y F H V V A S SR S E R D G Y I S D Q M L S D Q I R V M N E D Y A P H G V H F N L R E T T R T I N P S W A S D G N E I A M K R S L R K G G Y A A L N V Y F LK D L G G A L G Y C Y F P T N A A P G S T T F I R D G C S V L S S S V P G G S G A P Y D L G K T A T H E V G H W M G L F H T F Q G G C S G QG D Y V S D T P P Q R S P S S G C P V G R D S C P G G G V D P I H N Y M D Y S V D S C M N Q F T R G Q G T R M S S M W R Q F R A G K</td><td>Extracellular</td><td>S</td></tr><tr><td><b>1839</b></td><td class=\"no-wrap\">-></td><td>M L F W T A F S M A L S L R L A L A R S S I E R G S T A S D P Q G D L L F L L D S S A S V S H Y E F S R V R E F V G Q L V A T M S F G P G AL R A S L V H V G S Q P H T E F T F D Q Y S S G Q A I Q D A I R V A P Q R M G D T N T G L A L A Y A K E Q L F A E E A G A R P G V P K V L VW V T D G G S S D P V G P P M Q E L K D L G V T I F I V S T G R G N L L E L L A A A S A P A E K H L H F V D V D D L P I I A R E L R G S I TD A M Q P Q Q L H A S E V L S S G F R L S W P P L L T A D S G Y Y V L E L V P S G K L A T T R R Q Q L P G N A T S W T W T D L D P D T D Y EV S L L P E S N V H L L R P Q H V R V R T L Q E E A G P E R I V I S H A R P R S L R V S W A P A L G P D S A L G Y H V Q L G P L Q G G S L ER V E V P A G Q N S T T V Q G L T P C T T Y L V T V T A A F R S G R Q R A L S A K A C T A S G A R T R A P Q S M R P E A G P R E P</td><td>Extracellular</td><td>S</td></tr><tr><td><b>1840</b></td><td class=\"no-wrap\">-></td><td>M M A F P P Q S C V H V L P P K S I Q M W E P N H N T M H G S S Q S P R N Y R V H D S Q Q M V W V L T G N T L T A V P A S N N V K P V I L SL I A C R D T E F Q D V K K G N L V F L G I K N R N L C F C C V E M E G K P T L Q L K E V D I M N L Y K E R K A Q K A F L F Y H G I E G S TS V F Q S V L Y P G W F I A T S S I E R Q T I I L T H Q R G K L V N T N F Y I E S E K</td><td>Extracellular</td><td>S</td></tr><tr><td><b>1841</b></td><td class=\"no-wrap\">-></td><td>M K S L Y L I F G L W I L L A C F Q S G E G V R G P R R Q H N P R R Q Q D P S T L P H Y L G L Q P D P N G G Q I G V T I T I P L N L Q P P RV L V N L P G F I T G P P L V V Q G T T E Y Q Y Q W Q L T A P D P T P L S N P P T Q L H S T E Q A N T K T D A K I S N T T A T T Q N S T D IF E G G G K</td><td>Extracellular</td><td>S</td></tr>\r\n",
       "</table>\r\n",
       "<p><b>1842</b> rows x <b>3</b> columns</p><p><b>0</b> missing values</p>\r\n",
       "</div>\r\n"
      ]
     },
     "metadata": {},
     "output_type": "display_data"
    }
   ],
   "source": [
    "let deeplocTest = Frame.ReadCsv(\"/Users/christelsakhel/Desktop/VP1 bioinformatik/deeploc/deeploc_per_protein_test.csv\", separators=\",\", hasHeaders=true)\n",
    "deeplocTest"
   ]
  },
  {
   "cell_type": "code",
   "execution_count": null,
   "metadata": {
    "dotnet_interactive": {
     "language": "fsharp"
    },
    "vscode": {
     "languageId": "dotnet-interactive.fsharp"
    }
   },
   "outputs": [
    {
     "data": {
      "text/html": [
       "<div>\r\n",
       "<style scoped>,\r\n",
       "  .dataframe tbody tr th:only-of-type {\r\n",
       "    vertical-align: middle;\r\n",
       "  }\r\n",
       "  .dataframe tbody tr th {,\r\n",
       "    vertical-align: top\r\n",
       "  }\r\n",
       "  .dataframe thead th {\r\n",
       "    text-align: right;\r\n",
       "  }\r\n",
       "  .no-wrap {\r\n",
       "    white-space: nowrap;\r\n",
       "  }\r\n",
       "</style>\r\n",
       "<table border='1' class='dataframe'>\r\n",
       "<thead><th></th><th></th><th>input</th><th>loc</th><th>membrane</th></thead><thead><th></th><th></th><th>(string)</th><th>(string)</th><th>(string)</th></thead>\r\n",
       "<tr><td><b>0</b></td><td class=\"no-wrap\">-></td><td>M M K T L S S G N C T L N V P A K N S Y R M V V L G A S R V G K S S I V S R F L N G R F E D Q Y T P T I E D F H R K V Y N I H G D M Y Q L DI L D T S G N H P F P A M R R L S I L T G D V F I L V F S L D S R E S F D E V K R L Q K Q I L E V K S C L K N K T K E A A E L P M V I C G NK N D H S E L C R Q V P A M E A E L L V S G D E N C A Y F E V S A K K N T N V N E M F Y V L F S M A K L P H E M S P A L H H K I S V Q Y G DA F H P R P F C M R R T K V A G A Y G M V S P F A R R P S V N S D L K Y I K A K V L R E G Q A R E R D K C S I Q</td><td>Cell.membrane</td><td>M</td></tr><tr><td><b>1</b></td><td class=\"no-wrap\">-></td><td>M A K R T F S N L E T F L I F L L V M M S A I T V A L L S L L F I T S G T I E N H K D L G G H F F S T T Q S P P A T Q G S T A A Q R S T A TQ H S T A T Q S S T A T Q T S P V P L T P E S P L F Q N F S G Y H I G V G R A D C T G Q V A D I N L M G Y G K S G Q N A Q G I L T R L Y S RA F I M A E P D G S N R T V F V S I D I G M V S Q R L R L E V L N R L Q S K Y G S L Y R R D N V I L S G T H T H S G P A G Y F Q Y T V F V IA S E G F S N Q T F Q H M V T G I L K S I D I A H T N M K P G K I F I N K G N V D G V Q I N R S P Y S Y L Q N P Q S E R A R Y S S N T D K EM I V L K M V D L N G D D L G L I S W F A I H P V S M N N S N H L V N S D N V G Y A S Y L L E Q E K N K G Y L P G Q G P F V A A F A S S N LG D V S P N I L G P R C I N T G E S C D N A N S T C P I G G P S M C I A K G P G Q D M F D S T Q I I G R A M Y Q R A K E L Y A S A S Q E V TG P L A S A H Q W V D M T D V T V W L N S T H A S K T C K P A L G Y S F A A G T I D G V G G L N F T Q G K T E G D P F W D T I R D Q I L G KP S E E I K E C H K P K P I L L H T G E L S K P H P W H P D I V D V Q I I T L G S L A I T A I P G E F T T M S G R R L R E A V Q A E F A S HG M Q N M T V V I S G L C N V Y T H Y I T T Y E E Y Q A Q R Y E A A S T I Y G P H T L S A Y I Q L F R N L A K A I A T D T V A N L S R G P EP P F F K Q L I V P L I P S I V D R A P K G R T F G D V L Q P A K P E Y R V G E V A E V I F V G A N P K N S V Q N Q T H Q T F L T V E K Y EA T S T S W Q I V C N D A S W E T R F Y W H K G L L G L S N A T V E W H I P D T A Q P G I Y R I R Y F G H N R K Q D I L K P A V I L S F E GT S P A F E V V T I</td><td>Cell.membrane</td><td>M</td></tr><tr><td><b>2</b></td><td class=\"no-wrap\">-></td><td>M G N C Q A G H N L H L C L A H H P P L V C A T L I L L L L G L S G L G L G S F L L T H R T G L R S P D I P Q D W V S F L R S F G Q L T L CP R N G T V T G K W R G S H V V G L L T T L N F G D G P D R N K T R T F Q A T V L G S Q M G L K G S S A G Q L V L I T A R V T T E R T A G TC L Y F S A V P G I L P S S Q P P I S C S E E G A G N A T L S P R M G E E C V S V W S H E G L V L T K L L T S E E L A L C G S R L L V L G SF L L L F C G L L C C V T A M C F H P R R E S H W S R T R L</td><td>Cell.membrane</td><td>M</td></tr><tr><td><b>3</b></td><td class=\"no-wrap\">-></td><td>M D P S K Q G T L N R V E N S V Y R T A F K L R S V Q T L C Q L D L M D S F L I Q Q V L W R G R S G E S T E T S I S V Q Q L F Q E L R E L FQ R T G M G N A A Q V H P R A P E L T L S L L M A M F D R T G S G I L K R Q P V A A A L V A L S G D S P L T K Y R A F F Q L Y A E K N R R GD D S Q A R M T R R V L R A L L T D L Q Q I P T V V G E S Y T L R P V E S A I H S C F R G V L S S G I K E E K F L S W A Q S E P L V L L W LP T C Y R L S A A E T V T H P V R C S V C R T F P I I G L R Y H C L K C L D F D I C E L C F L S G L H K N S H E K S H T V M E E C V Q M S AT E N T K L L F R S L R N N L P Q K R Q R V G A V G R Q W L L D Q L A S R D S A S H G P A R L C L Q Y K C P K A P G Y A S S R R A V E T A AT G V L C Q R P S P A L Q G N H N R H G Q T I V N I K N E L W R T R D S L N T L L R E R R L L R K Q L H R Y K Q K L Q G T Y A L Q E E Q N CR F E T K I R E L T T N Q D N L W T K L Q Q M R R D L Q A M L Q P L H P S S S P Q T T A S K I F H S L P D D G I R R G G D S S H I K R V T RD G P E W E L L P N S A K V D R K H K C Q A S S G K A L P D S E P Q E I I L Q S T R K Q N H P Q K M L S K V H S S P S A H Q Q D T L Q I P PT E V K I P A Q T L S A G K E M E S C S E K R N N L E D E E L Q A L L P R L L D A F D L D S P T G L Q P L M D M E L Y G R A Q Q V C R A F SV L V D Q I T L P T W S E E E S R L K G P L V</td><td>Cell.membrane</td><td>M</td></tr><tr><td><b>4</b></td><td class=\"no-wrap\">-></td><td>M L L A W V Q A F L V S N M L L A E A Y G S G G C F W D N G H L Y R E D Q T S P A P G L R C L N W L D A Q S G L A S A P V S G A G N H S Y CR N P D E D P R G P W C Y V S G E A G V P E K R P C E D L R C P E T T S Q A L P A F T T E I Q E A S E G P G A D E V Q V F A P A N A L P A RS E A A A V Q P V I G I S Q R V R M N S K E K K D L G T L G Y V L G I T M M V I I I A I G A G I I L G Y S Y K R G K D L K E Q H D Q K V C ER E M Q R I T L P L S A F T N P T C E I V D E K T V V V H T S Q T P V D P Q E G T T P L M G Q A G T P G A</td><td>Cell.membrane</td><td>M</td></tr><tr><td><b>:</b></td><td class=\"no-wrap\"></td><td>...</td><td>...</td><td>...</td></tr><tr><td><b>6617</b></td><td class=\"no-wrap\">-></td><td>M K C L V A L F L S L S L V A C Q Y D D Y D T E R K N N N M L S S M N I L D L L D S F G L N I K A R I A H V R R V A G R I R L T L D I G L GN G D V E R E S E E A E G E G T D G R G G G E G E R E G W G G E R E G G E G E R E G G E G E R E G R E G E R E G K S S E S N E S P E D F I GP P V D M C A G E S R R G S P S I G C I A A E C C Q H S F Y I N S L C P G S S V C C F S M D V C D R L P V P V I P P F P T D P G T L P P P PP I P D S Q T T V S P N Q P S S Y M C H G D F M K L M P K G A D Q R T A R Q D N L A Y A G V R A S N K L V D N D L A E L N K R K D C Y V Q AG K N H C I H P A V I A A I A S R E T R G G K L L Y S T N G Y G D G G R A Y G I M Q C D G G A S G L G D I C K K Y P W D S C E H I N Q L T DI I L L N Y V N Q M K T K H P S W P A H Y Q L K G G V S A Y N A G V G N V Q T I A G M D A G T T N D D Y S N D V I A R A Q R L V N A H G W</td><td>Extracellular</td><td>S</td></tr><tr><td><b>6618</b></td><td class=\"no-wrap\">-></td><td>M E F K L L L V L C F N I G L I C S Q K T K P I G S K P I A V T T A A K T P A T S T S P V T N G T G G P K F D L A A L Q K L L A T F Q M M QG A Q G G N T A P S S S L P G V S S M P M P S A N Q I S R K S N I N A N S L Y Q P E L M N T N V P Y M G N S L Q Q S R F Q N Q F L G G Q F AP N V N V Y R T N N H I S S F E Q M R L T R S Y N L D E E Q K F K I L E E H N K F R S D V V Q K R G T G A M N V L R W S E K L A A Q A S L EV M N C S Y V N Q G R G A S L A S V Y E K Y T G S S L V S E F M S R W S D E K N R F S L G E N C S I Q Q T C R Y S Q A V W A N T K Q V G C AV Q Y C G D M S F I A C S Y S P V G N T V N Q I A F S P S R G G I C S A C T T P P N M P V R C N S D H L C E W Y</td><td>Extracellular</td><td>S</td></tr><tr><td><b>6619</b></td><td class=\"no-wrap\">-></td><td>M K L S I F F V L F F I A I A Y C Q P E F L D D E E D E V E E T L P V A E E G R E K S C I T W R N S C M H N D K G C C F P W S C V C W S Q TV S R N S S R K E K K C Q C R L W</td><td>Extracellular</td><td>S</td></tr><tr><td><b>6620</b></td><td class=\"no-wrap\">-></td><td>M A S N S A F S L F L I L L I I T Q C L S V L N A A K D F D F F Y F V Q Q W P G S Y C D T K Q S C C Y P T T G K P A A D F G I H G L W P N NN D G T Y P S N C D P N S P Y D Q S Q I S D L I S S M Q Q N W P T L A C P S G S G S T F W S H E W E K H G T C A E S V L T N Q H A Y F K K AL D L K N Q I D L L S I L Q G A D I H P D G E S Y D L V N I R N A I K S A I G Y T P W I Q C N V D Q S G N S Q L Y Q V Y I C V D G S G S S LI E C P I F P G G K C G T S I E F P T F</td><td>Extracellular</td><td>S</td></tr><tr><td><b>6621</b></td><td class=\"no-wrap\">-></td><td>M G F I T K A I P L A L A A A S V I N G A E I M E T R A G V Q T L A D K Y I V V M N D G M T D K D F D S H R S W V N R T H R R R L I R R G AK A M G G M K H T Y R F P T G L K G Y S G H F D E Q M I N E I S K R A D V K Y I E R D A R V Q I N A I E Q Q D N V P S W G L A R V G S K E PG G T T Y Y Y D G T A G E G S T A Y V I D T G T D I Q H E E F E G R A T W G A N F V D D M D M D C N G H G T H V S G T I G G K T F G V A K KS N V V A V K V L D C N G S G S N S G V I M G M E W A T K D A Q Q K G A D K A V A N M S L G G A F S Q A S N D A A A A I A K G G V F L A V AA G N D N V D A A D S S P A S E P S I C T V A A S T E Q D S K A D F S N F G Q V V D V Y A P G D S I T S A K P G G G S Q V L S G T S M A T PH V A G L G A Y L I G L G K G G G P G L C D T I K Q T A I D V I Q N P G A S T T S K L I N N G S G I G F L S F P L N I Y E E Q W S K L F D L</td><td>Extracellular</td><td>S</td></tr>\r\n",
       "</table>\r\n",
       "<p><b>6622</b> rows x <b>3</b> columns</p><p><b>0</b> missing values</p>\r\n",
       "</div>\r\n"
      ]
     },
     "metadata": {},
     "output_type": "display_data"
    }
   ],
   "source": [
    "let deeplocTrain = Frame.ReadCsv(\"/Users/christelsakhel/Desktop/VP1 bioinformatik/deeploc/deeploc_per_protein_train.csv\", separators=\",\", hasHeaders=true)\n",
    "deeplocTrain"
   ]
  },
  {
   "cell_type": "code",
   "execution_count": null,
   "metadata": {
    "dotnet_interactive": {
     "language": "fsharp"
    },
    "vscode": {
     "languageId": "dotnet-interactive.fsharp"
    }
   },
   "outputs": [
    {
     "data": {
      "text/html": [
       "<div>\r\n",
       "<style scoped>,\r\n",
       "  .dataframe tbody tr th:only-of-type {\r\n",
       "    vertical-align: middle;\r\n",
       "  }\r\n",
       "  .dataframe tbody tr th {,\r\n",
       "    vertical-align: top\r\n",
       "  }\r\n",
       "  .dataframe thead th {\r\n",
       "    text-align: right;\r\n",
       "  }\r\n",
       "  .no-wrap {\r\n",
       "    white-space: nowrap;\r\n",
       "  }\r\n",
       "</style>\r\n",
       "<table border='1' class='dataframe'>\r\n",
       "<thead><th></th><th></th><th>numbers_[0]</th><th>numbers_[1]</th><th>numbers_[2]</th><th>numbers_[3]</th><th>numbers_[4]</th><th>numbers_[5]</th><th>numbers_[6]</th><th>numbers_[7]</th><th>numbers_[8]</th><th>numbers_[9]</th><th>...</th><th>numbers_[1014]</th><th>numbers_[1015]</th><th>numbers_[1016]</th><th>numbers_[1017]</th><th>numbers_[1018]</th><th>numbers_[1019]</th><th>numbers_[1020]</th><th>numbers_[1021]</th><th>numbers_[1022]</th><th>numbers_[1023]</th></thead><thead><th></th><th></th><th>(Decimal)</th><th>(Decimal)</th><th>(Decimal)</th><th>(Decimal)</th><th>(Decimal)</th><th>(Decimal)</th><th>(Decimal)</th><th>(Decimal)</th><th>(Decimal)</th><th>(Decimal)</th><th>...</th><th>(Decimal)</th><th>(Decimal)</th><th>(Decimal)</th><th>(Decimal)</th><th>(Decimal)</th><th>(Decimal)</th><th>(Decimal)</th><th>(Decimal)</th><th>(Decimal)</th><th>(Decimal)</th></thead>\r\n",
       "<tr><td><b>0</b></td><td class=\"no-wrap\">-></td><td>0.002777099609375</td><td>0.058685302734375</td><td>-0.004810333251953125</td><td>0.007232666015625</td><td>-0.0027408599853515625</td><td>0.0201873779296875</td><td>-0.0635986328125</td><td>-0.0254669189453125</td><td>0.0210723876953125</td><td>-0.0216064453125</td><td>...</td><td>-0.03997802734375</td><td>-0.007724761962890625</td><td>-0.04608154296875</td><td>-0.036468505859375</td><td>0.03448486328125</td><td>0.036407470703125</td><td>-0.016845703125</td><td>-0.0003867149353027344</td><td>0.021148681640625</td><td>-0.0030879974365234375</td></tr><tr><td><b>1</b></td><td class=\"no-wrap\">-></td><td>0.04132080078125</td><td>0.0205841064453125</td><td>0.025115966796875</td><td>0.003124237060546875</td><td>-0.00937652587890625</td><td>0.00656890869140625</td><td>-0.09814453125</td><td>-0.053863525390625</td><td>-0.023681640625</td><td>0.0272674560546875</td><td>...</td><td>-0.056976318359375</td><td>-0.003971099853515625</td><td>-0.017181396484375</td><td>-0.0399169921875</td><td>0.0109710693359375</td><td>0.0018062591552734375</td><td>0.0308990478515625</td><td>0.04925537109375</td><td>0.046630859375</td><td>-0.0259552001953125</td></tr><tr><td><b>2</b></td><td class=\"no-wrap\">-></td><td>-0.00638580322265625</td><td>-0.02825927734375</td><td>0.0008525848388671875</td><td>0.00455474853515625</td><td>-0.022003173828125</td><td>0.0218963623046875</td><td>-0.05206298828125</td><td>-0.03472900390625</td><td>0.07196044921875</td><td>-0.02392578125</td><td>...</td><td>0.00018095970153808594</td><td>-0.035491943359375</td><td>0.01006317138671875</td><td>-0.020599365234375</td><td>-0.05194091796875</td><td>-0.04986572265625</td><td>-0.0008397102355957031</td><td>-0.055572509765625</td><td>0.033599853515625</td><td>0.039306640625</td></tr><tr><td><b>3</b></td><td class=\"no-wrap\">-></td><td>-0.037384033203125</td><td>-0.055267333984375</td><td>-0.011566162109375</td><td>-0.0174102783203125</td><td>-0.040863037109375</td><td>0.047576904296875</td><td>-0.038330078125</td><td>-0.0531005859375</td><td>0.00492095947265625</td><td>0.0109100341796875</td><td>...</td><td>-0.0021152496337890625</td><td>-0.01448822021484375</td><td>-0.0183563232421875</td><td>-0.0310821533203125</td><td>-0.0029659271240234375</td><td>0.05029296875</td><td>0.016448974609375</td><td>0.004058837890625</td><td>0.01220703125</td><td>-0.0086212158203125</td></tr><tr><td><b>4</b></td><td class=\"no-wrap\">-></td><td>0.007904052734375</td><td>-0.0284881591796875</td><td>0.033050537109375</td><td>-0.018402099609375</td><td>-0.0290374755859375</td><td>0.073974609375</td><td>-0.05535888671875</td><td>-0.045806884765625</td><td>0.021697998046875</td><td>0.026519775390625</td><td>...</td><td>-0.0012521743774414062</td><td>-0.0297698974609375</td><td>0.00007045269012451172</td><td>-0.03863525390625</td><td>-0.0169677734375</td><td>0.032867431640625</td><td>0.011199951171875</td><td>-0.0345458984375</td><td>0.03179931640625</td><td>0.0245361328125</td></tr><tr><td><b>:</b></td><td class=\"no-wrap\"></td><td>...</td><td>...</td><td>...</td><td>...</td><td>...</td><td>...</td><td>...</td><td>...</td><td>...</td><td>...</td><td>...</td><td>...</td><td>...</td><td>...</td><td>...</td><td>...</td><td>...</td><td>...</td><td>...</td><td>...</td><td>...</td></tr><tr><td><b>6616</b></td><td class=\"no-wrap\">-></td><td>0.08538818359375</td><td>0.0284271240234375</td><td>0.05560302734375</td><td>0.0167236328125</td><td>-0.036041259765625</td><td>-0.0284881591796875</td><td>-0.02313232421875</td><td>-0.051513671875</td><td>-0.020538330078125</td><td>-0.0214996337890625</td><td>...</td><td>-0.08087158203125</td><td>-0.0269927978515625</td><td>-0.07098388671875</td><td>-0.054290771484375</td><td>-0.026123046875</td><td>0.0458984375</td><td>0.029205322265625</td><td>0.02850341796875</td><td>0.00988006591796875</td><td>-0.01241302490234375</td></tr><tr><td><b>6617</b></td><td class=\"no-wrap\">-></td><td>0.03643798828125</td><td>0.02423095703125</td><td>0.0199432373046875</td><td>0.000713348388671875</td><td>-0.030303955078125</td><td>0.0262603759765625</td><td>-0.08270263671875</td><td>-0.0626220703125</td><td>-0.03924560546875</td><td>-0.0008268356323242188</td><td>...</td><td>-0.07647705078125</td><td>-0.052642822265625</td><td>-0.057464599609375</td><td>-0.046234130859375</td><td>0.026885986328125</td><td>0.0521240234375</td><td>-0.01873779296875</td><td>-0.007472991943359375</td><td>0.03594970703125</td><td>-0.02508544921875</td></tr><tr><td><b>6618</b></td><td class=\"no-wrap\">-></td><td>0.0308837890625</td><td>0.0281982421875</td><td>0.0631103515625</td><td>-0.020233154296875</td><td>-0.03436279296875</td><td>-0.045379638671875</td><td>0.019927978515625</td><td>-0.1619873046875</td><td>-0.0367431640625</td><td>0.0253753662109375</td><td>...</td><td>-0.1416015625</td><td>-0.0286712646484375</td><td>-0.087890625</td><td>-0.12347412109375</td><td>0.03265380859375</td><td>0.037506103515625</td><td>-0.02734375</td><td>0.0433349609375</td><td>0.094482421875</td><td>0.0207366943359375</td></tr><tr><td><b>6619</b></td><td class=\"no-wrap\">-></td><td>0.021148681640625</td><td>0.07891845703125</td><td>0.01617431640625</td><td>-0.0479736328125</td><td>0.024383544921875</td><td>0.01374053955078125</td><td>-0.020050048828125</td><td>-0.02484130859375</td><td>0.006771087646484375</td><td>-0.020599365234375</td><td>...</td><td>-0.10400390625</td><td>-0.004695892333984375</td><td>-0.0240325927734375</td><td>-0.043487548828125</td><td>0.0865478515625</td><td>-0.00627899169921875</td><td>-0.0208892822265625</td><td>0.0185546875</td><td>0.0318603515625</td><td>-0.029693603515625</td></tr><tr><td><b>6620</b></td><td class=\"no-wrap\">-></td><td>0.020538330078125</td><td>-0.038116455078125</td><td>0.0697021484375</td><td>-0.0265045166015625</td><td>0.014617919921875</td><td>-0.009033203125</td><td>-0.06536865234375</td><td>-0.06268310546875</td><td>-0.03985595703125</td><td>-0.041961669921875</td><td>...</td><td>-0.08843994140625</td><td>-0.062744140625</td><td>-0.021270751953125</td><td>-0.01419830322265625</td><td>0.0016393661499023438</td><td>-0.00855255126953125</td><td>-0.0007228851318359375</td><td>0.04254150390625</td><td>0.034454345703125</td><td>-0.018096923828125</td></tr>\r\n",
       "</table>\r\n",
       "<p><b>6621</b> rows x <b>1024</b> columns</p><p><b>1388</b> missing values</p>\r\n",
       "</div>\r\n"
      ]
     },
     "metadata": {},
     "output_type": "display_data"
    }
   ],
   "source": [
    "let embedTrain : Frame<int,_> = \n",
    "    Frame.ReadCsv(\"/Users/christelsakhel/Desktop/VP1 bioinformatik/embedding data/training_embeddings_split.csv\", separators=\",\", hasHeaders=true)\n",
    "    |> Frame.indexRows (\"index\")\n",
    "embedTrain"
   ]
  },
  {
   "cell_type": "code",
   "execution_count": null,
   "metadata": {
    "dotnet_interactive": {
     "language": "fsharp"
    },
    "vscode": {
     "languageId": "dotnet-interactive.fsharp"
    }
   },
   "outputs": [
    {
     "data": {
      "text/html": [
       "<div>\r\n",
       "<style scoped>,\r\n",
       "  .dataframe tbody tr th:only-of-type {\r\n",
       "    vertical-align: middle;\r\n",
       "  }\r\n",
       "  .dataframe tbody tr th {,\r\n",
       "    vertical-align: top\r\n",
       "  }\r\n",
       "  .dataframe thead th {\r\n",
       "    text-align: right;\r\n",
       "  }\r\n",
       "  .no-wrap {\r\n",
       "    white-space: nowrap;\r\n",
       "  }\r\n",
       "</style>\r\n",
       "<table border='1' class='dataframe'>\r\n",
       "<thead><th></th><th></th><th>input</th><th>loc</th><th>membrane</th></thead><thead><th></th><th></th><th>(string)</th><th>(string)</th><th>(string)</th></thead>\r\n",
       "<tr><td><b>0</b></td><td class=\"no-wrap\">-></td><td>M M K T L S S G N C T L N V P A K N S Y R M V V L G A S R V G K S S I V S R F L N G R F E D Q Y T P T I E D F H R K V Y N I H G D M Y Q L DI L D T S G N H P F P A M R R L S I L T G D V F I L V F S L D S R E S F D E V K R L Q K Q I L E V K S C L K N K T K E A A E L P M V I C G NK N D H S E L C R Q V P A M E A E L L V S G D E N C A Y F E V S A K K N T N V N E M F Y V L F S M A K L P H E M S P A L H H K I S V Q Y G DA F H P R P F C M R R T K V A G A Y G M V S P F A R R P S V N S D L K Y I K A K V L R E G Q A R E R D K C S I Q</td><td>Cell.membrane</td><td>M</td></tr><tr><td><b>1</b></td><td class=\"no-wrap\">-></td><td>M A K R T F S N L E T F L I F L L V M M S A I T V A L L S L L F I T S G T I E N H K D L G G H F F S T T Q S P P A T Q G S T A A Q R S T A TQ H S T A T Q S S T A T Q T S P V P L T P E S P L F Q N F S G Y H I G V G R A D C T G Q V A D I N L M G Y G K S G Q N A Q G I L T R L Y S RA F I M A E P D G S N R T V F V S I D I G M V S Q R L R L E V L N R L Q S K Y G S L Y R R D N V I L S G T H T H S G P A G Y F Q Y T V F V IA S E G F S N Q T F Q H M V T G I L K S I D I A H T N M K P G K I F I N K G N V D G V Q I N R S P Y S Y L Q N P Q S E R A R Y S S N T D K EM I V L K M V D L N G D D L G L I S W F A I H P V S M N N S N H L V N S D N V G Y A S Y L L E Q E K N K G Y L P G Q G P F V A A F A S S N LG D V S P N I L G P R C I N T G E S C D N A N S T C P I G G P S M C I A K G P G Q D M F D S T Q I I G R A M Y Q R A K E L Y A S A S Q E V TG P L A S A H Q W V D M T D V T V W L N S T H A S K T C K P A L G Y S F A A G T I D G V G G L N F T Q G K T E G D P F W D T I R D Q I L G KP S E E I K E C H K P K P I L L H T G E L S K P H P W H P D I V D V Q I I T L G S L A I T A I P G E F T T M S G R R L R E A V Q A E F A S HG M Q N M T V V I S G L C N V Y T H Y I T T Y E E Y Q A Q R Y E A A S T I Y G P H T L S A Y I Q L F R N L A K A I A T D T V A N L S R G P EP P F F K Q L I V P L I P S I V D R A P K G R T F G D V L Q P A K P E Y R V G E V A E V I F V G A N P K N S V Q N Q T H Q T F L T V E K Y EA T S T S W Q I V C N D A S W E T R F Y W H K G L L G L S N A T V E W H I P D T A Q P G I Y R I R Y F G H N R K Q D I L K P A V I L S F E GT S P A F E V V T I</td><td>Cell.membrane</td><td>M</td></tr><tr><td><b>2</b></td><td class=\"no-wrap\">-></td><td>M G N C Q A G H N L H L C L A H H P P L V C A T L I L L L L G L S G L G L G S F L L T H R T G L R S P D I P Q D W V S F L R S F G Q L T L CP R N G T V T G K W R G S H V V G L L T T L N F G D G P D R N K T R T F Q A T V L G S Q M G L K G S S A G Q L V L I T A R V T T E R T A G TC L Y F S A V P G I L P S S Q P P I S C S E E G A G N A T L S P R M G E E C V S V W S H E G L V L T K L L T S E E L A L C G S R L L V L G SF L L L F C G L L C C V T A M C F H P R R E S H W S R T R L</td><td>Cell.membrane</td><td>M</td></tr><tr><td><b>3</b></td><td class=\"no-wrap\">-></td><td>M D P S K Q G T L N R V E N S V Y R T A F K L R S V Q T L C Q L D L M D S F L I Q Q V L W R G R S G E S T E T S I S V Q Q L F Q E L R E L FQ R T G M G N A A Q V H P R A P E L T L S L L M A M F D R T G S G I L K R Q P V A A A L V A L S G D S P L T K Y R A F F Q L Y A E K N R R GD D S Q A R M T R R V L R A L L T D L Q Q I P T V V G E S Y T L R P V E S A I H S C F R G V L S S G I K E E K F L S W A Q S E P L V L L W LP T C Y R L S A A E T V T H P V R C S V C R T F P I I G L R Y H C L K C L D F D I C E L C F L S G L H K N S H E K S H T V M E E C V Q M S AT E N T K L L F R S L R N N L P Q K R Q R V G A V G R Q W L L D Q L A S R D S A S H G P A R L C L Q Y K C P K A P G Y A S S R R A V E T A AT G V L C Q R P S P A L Q G N H N R H G Q T I V N I K N E L W R T R D S L N T L L R E R R L L R K Q L H R Y K Q K L Q G T Y A L Q E E Q N CR F E T K I R E L T T N Q D N L W T K L Q Q M R R D L Q A M L Q P L H P S S S P Q T T A S K I F H S L P D D G I R R G G D S S H I K R V T RD G P E W E L L P N S A K V D R K H K C Q A S S G K A L P D S E P Q E I I L Q S T R K Q N H P Q K M L S K V H S S P S A H Q Q D T L Q I P PT E V K I P A Q T L S A G K E M E S C S E K R N N L E D E E L Q A L L P R L L D A F D L D S P T G L Q P L M D M E L Y G R A Q Q V C R A F SV L V D Q I T L P T W S E E E S R L K G P L V</td><td>Cell.membrane</td><td>M</td></tr><tr><td><b>4</b></td><td class=\"no-wrap\">-></td><td>M L L A W V Q A F L V S N M L L A E A Y G S G G C F W D N G H L Y R E D Q T S P A P G L R C L N W L D A Q S G L A S A P V S G A G N H S Y CR N P D E D P R G P W C Y V S G E A G V P E K R P C E D L R C P E T T S Q A L P A F T T E I Q E A S E G P G A D E V Q V F A P A N A L P A RS E A A A V Q P V I G I S Q R V R M N S K E K K D L G T L G Y V L G I T M M V I I I A I G A G I I L G Y S Y K R G K D L K E Q H D Q K V C ER E M Q R I T L P L S A F T N P T C E I V D E K T V V V H T S Q T P V D P Q E G T T P L M G Q A G T P G A</td><td>Cell.membrane</td><td>M</td></tr><tr><td><b>:</b></td><td class=\"no-wrap\"></td><td>...</td><td>...</td><td>...</td></tr><tr><td><b>6617</b></td><td class=\"no-wrap\">-></td><td>M K C L V A L F L S L S L V A C Q Y D D Y D T E R K N N N M L S S M N I L D L L D S F G L N I K A R I A H V R R V A G R I R L T L D I G L GN G D V E R E S E E A E G E G T D G R G G G E G E R E G W G G E R E G G E G E R E G G E G E R E G R E G E R E G K S S E S N E S P E D F I GP P V D M C A G E S R R G S P S I G C I A A E C C Q H S F Y I N S L C P G S S V C C F S M D V C D R L P V P V I P P F P T D P G T L P P P PP I P D S Q T T V S P N Q P S S Y M C H G D F M K L M P K G A D Q R T A R Q D N L A Y A G V R A S N K L V D N D L A E L N K R K D C Y V Q AG K N H C I H P A V I A A I A S R E T R G G K L L Y S T N G Y G D G G R A Y G I M Q C D G G A S G L G D I C K K Y P W D S C E H I N Q L T DI I L L N Y V N Q M K T K H P S W P A H Y Q L K G G V S A Y N A G V G N V Q T I A G M D A G T T N D D Y S N D V I A R A Q R L V N A H G W</td><td>Extracellular</td><td>S</td></tr><tr><td><b>6618</b></td><td class=\"no-wrap\">-></td><td>M E F K L L L V L C F N I G L I C S Q K T K P I G S K P I A V T T A A K T P A T S T S P V T N G T G G P K F D L A A L Q K L L A T F Q M M QG A Q G G N T A P S S S L P G V S S M P M P S A N Q I S R K S N I N A N S L Y Q P E L M N T N V P Y M G N S L Q Q S R F Q N Q F L G G Q F AP N V N V Y R T N N H I S S F E Q M R L T R S Y N L D E E Q K F K I L E E H N K F R S D V V Q K R G T G A M N V L R W S E K L A A Q A S L EV M N C S Y V N Q G R G A S L A S V Y E K Y T G S S L V S E F M S R W S D E K N R F S L G E N C S I Q Q T C R Y S Q A V W A N T K Q V G C AV Q Y C G D M S F I A C S Y S P V G N T V N Q I A F S P S R G G I C S A C T T P P N M P V R C N S D H L C E W Y</td><td>Extracellular</td><td>S</td></tr><tr><td><b>6619</b></td><td class=\"no-wrap\">-></td><td>M K L S I F F V L F F I A I A Y C Q P E F L D D E E D E V E E T L P V A E E G R E K S C I T W R N S C M H N D K G C C F P W S C V C W S Q TV S R N S S R K E K K C Q C R L W</td><td>Extracellular</td><td>S</td></tr><tr><td><b>6620</b></td><td class=\"no-wrap\">-></td><td>M A S N S A F S L F L I L L I I T Q C L S V L N A A K D F D F F Y F V Q Q W P G S Y C D T K Q S C C Y P T T G K P A A D F G I H G L W P N NN D G T Y P S N C D P N S P Y D Q S Q I S D L I S S M Q Q N W P T L A C P S G S G S T F W S H E W E K H G T C A E S V L T N Q H A Y F K K AL D L K N Q I D L L S I L Q G A D I H P D G E S Y D L V N I R N A I K S A I G Y T P W I Q C N V D Q S G N S Q L Y Q V Y I C V D G S G S S LI E C P I F P G G K C G T S I E F P T F</td><td>Extracellular</td><td>S</td></tr><tr><td><b>6621</b></td><td class=\"no-wrap\">-></td><td>M G F I T K A I P L A L A A A S V I N G A E I M E T R A G V Q T L A D K Y I V V M N D G M T D K D F D S H R S W V N R T H R R R L I R R G AK A M G G M K H T Y R F P T G L K G Y S G H F D E Q M I N E I S K R A D V K Y I E R D A R V Q I N A I E Q Q D N V P S W G L A R V G S K E PG G T T Y Y Y D G T A G E G S T A Y V I D T G T D I Q H E E F E G R A T W G A N F V D D M D M D C N G H G T H V S G T I G G K T F G V A K KS N V V A V K V L D C N G S G S N S G V I M G M E W A T K D A Q Q K G A D K A V A N M S L G G A F S Q A S N D A A A A I A K G G V F L A V AA G N D N V D A A D S S P A S E P S I C T V A A S T E Q D S K A D F S N F G Q V V D V Y A P G D S I T S A K P G G G S Q V L S G T S M A T PH V A G L G A Y L I G L G K G G G P G L C D T I K Q T A I D V I Q N P G A S T T S K L I N N G S G I G F L S F P L N I Y E E Q W S K L F D L</td><td>Extracellular</td><td>S</td></tr>\r\n",
       "</table>\r\n",
       "<p><b>6621</b> rows x <b>3</b> columns</p><p><b>0</b> missing values</p>\r\n",
       "</div>\r\n"
      ]
     },
     "metadata": {},
     "output_type": "display_data"
    }
   ],
   "source": [
    "let removedRow = deeplocTrain |>Frame.filterRows (fun index c -> if index = 6007 then false else true)\n",
    "removedRow"
   ]
  },
  {
   "cell_type": "code",
   "execution_count": null,
   "metadata": {
    "dotnet_interactive": {
     "language": "fsharp"
    },
    "vscode": {
     "languageId": "dotnet-interactive.fsharp"
    }
   },
   "outputs": [
    {
     "data": {
      "text/html": [
       "<div>\r\n",
       "<style scoped>,\r\n",
       "  .dataframe tbody tr th:only-of-type {\r\n",
       "    vertical-align: middle;\r\n",
       "  }\r\n",
       "  .dataframe tbody tr th {,\r\n",
       "    vertical-align: top\r\n",
       "  }\r\n",
       "  .dataframe thead th {\r\n",
       "    text-align: right;\r\n",
       "  }\r\n",
       "  .no-wrap {\r\n",
       "    white-space: nowrap;\r\n",
       "  }\r\n",
       "</style>\r\n",
       "<table border='1' class='dataframe'>\r\n",
       "<thead><th></th><th></th><th>input</th><th>loc</th><th>membrane</th></thead><thead><th></th><th></th><th>(string)</th><th>(string)</th><th>(string)</th></thead>\r\n",
       "<tr><td><b>0</b></td><td class=\"no-wrap\">-></td><td>M M K T L S S G N C T L N V P A K N S Y R M V V L G A S R V G K S S I V S R F L N G R F E D Q Y T P T I E D F H R K V Y N I H G D M Y Q L DI L D T S G N H P F P A M R R L S I L T G D V F I L V F S L D S R E S F D E V K R L Q K Q I L E V K S C L K N K T K E A A E L P M V I C G NK N D H S E L C R Q V P A M E A E L L V S G D E N C A Y F E V S A K K N T N V N E M F Y V L F S M A K L P H E M S P A L H H K I S V Q Y G DA F H P R P F C M R R T K V A G A Y G M V S P F A R R P S V N S D L K Y I K A K V L R E G Q A R E R D K C S I Q</td><td>Cell.membrane</td><td>M</td></tr><tr><td><b>1</b></td><td class=\"no-wrap\">-></td><td>M A K R T F S N L E T F L I F L L V M M S A I T V A L L S L L F I T S G T I E N H K D L G G H F F S T T Q S P P A T Q G S T A A Q R S T A TQ H S T A T Q S S T A T Q T S P V P L T P E S P L F Q N F S G Y H I G V G R A D C T G Q V A D I N L M G Y G K S G Q N A Q G I L T R L Y S RA F I M A E P D G S N R T V F V S I D I G M V S Q R L R L E V L N R L Q S K Y G S L Y R R D N V I L S G T H T H S G P A G Y F Q Y T V F V IA S E G F S N Q T F Q H M V T G I L K S I D I A H T N M K P G K I F I N K G N V D G V Q I N R S P Y S Y L Q N P Q S E R A R Y S S N T D K EM I V L K M V D L N G D D L G L I S W F A I H P V S M N N S N H L V N S D N V G Y A S Y L L E Q E K N K G Y L P G Q G P F V A A F A S S N LG D V S P N I L G P R C I N T G E S C D N A N S T C P I G G P S M C I A K G P G Q D M F D S T Q I I G R A M Y Q R A K E L Y A S A S Q E V TG P L A S A H Q W V D M T D V T V W L N S T H A S K T C K P A L G Y S F A A G T I D G V G G L N F T Q G K T E G D P F W D T I R D Q I L G KP S E E I K E C H K P K P I L L H T G E L S K P H P W H P D I V D V Q I I T L G S L A I T A I P G E F T T M S G R R L R E A V Q A E F A S HG M Q N M T V V I S G L C N V Y T H Y I T T Y E E Y Q A Q R Y E A A S T I Y G P H T L S A Y I Q L F R N L A K A I A T D T V A N L S R G P EP P F F K Q L I V P L I P S I V D R A P K G R T F G D V L Q P A K P E Y R V G E V A E V I F V G A N P K N S V Q N Q T H Q T F L T V E K Y EA T S T S W Q I V C N D A S W E T R F Y W H K G L L G L S N A T V E W H I P D T A Q P G I Y R I R Y F G H N R K Q D I L K P A V I L S F E GT S P A F E V V T I</td><td>Cell.membrane</td><td>M</td></tr><tr><td><b>2</b></td><td class=\"no-wrap\">-></td><td>M G N C Q A G H N L H L C L A H H P P L V C A T L I L L L L G L S G L G L G S F L L T H R T G L R S P D I P Q D W V S F L R S F G Q L T L CP R N G T V T G K W R G S H V V G L L T T L N F G D G P D R N K T R T F Q A T V L G S Q M G L K G S S A G Q L V L I T A R V T T E R T A G TC L Y F S A V P G I L P S S Q P P I S C S E E G A G N A T L S P R M G E E C V S V W S H E G L V L T K L L T S E E L A L C G S R L L V L G SF L L L F C G L L C C V T A M C F H P R R E S H W S R T R L</td><td>Cell.membrane</td><td>M</td></tr><tr><td><b>3</b></td><td class=\"no-wrap\">-></td><td>M D P S K Q G T L N R V E N S V Y R T A F K L R S V Q T L C Q L D L M D S F L I Q Q V L W R G R S G E S T E T S I S V Q Q L F Q E L R E L FQ R T G M G N A A Q V H P R A P E L T L S L L M A M F D R T G S G I L K R Q P V A A A L V A L S G D S P L T K Y R A F F Q L Y A E K N R R GD D S Q A R M T R R V L R A L L T D L Q Q I P T V V G E S Y T L R P V E S A I H S C F R G V L S S G I K E E K F L S W A Q S E P L V L L W LP T C Y R L S A A E T V T H P V R C S V C R T F P I I G L R Y H C L K C L D F D I C E L C F L S G L H K N S H E K S H T V M E E C V Q M S AT E N T K L L F R S L R N N L P Q K R Q R V G A V G R Q W L L D Q L A S R D S A S H G P A R L C L Q Y K C P K A P G Y A S S R R A V E T A AT G V L C Q R P S P A L Q G N H N R H G Q T I V N I K N E L W R T R D S L N T L L R E R R L L R K Q L H R Y K Q K L Q G T Y A L Q E E Q N CR F E T K I R E L T T N Q D N L W T K L Q Q M R R D L Q A M L Q P L H P S S S P Q T T A S K I F H S L P D D G I R R G G D S S H I K R V T RD G P E W E L L P N S A K V D R K H K C Q A S S G K A L P D S E P Q E I I L Q S T R K Q N H P Q K M L S K V H S S P S A H Q Q D T L Q I P PT E V K I P A Q T L S A G K E M E S C S E K R N N L E D E E L Q A L L P R L L D A F D L D S P T G L Q P L M D M E L Y G R A Q Q V C R A F SV L V D Q I T L P T W S E E E S R L K G P L V</td><td>Cell.membrane</td><td>M</td></tr><tr><td><b>4</b></td><td class=\"no-wrap\">-></td><td>M L L A W V Q A F L V S N M L L A E A Y G S G G C F W D N G H L Y R E D Q T S P A P G L R C L N W L D A Q S G L A S A P V S G A G N H S Y CR N P D E D P R G P W C Y V S G E A G V P E K R P C E D L R C P E T T S Q A L P A F T T E I Q E A S E G P G A D E V Q V F A P A N A L P A RS E A A A V Q P V I G I S Q R V R M N S K E K K D L G T L G Y V L G I T M M V I I I A I G A G I I L G Y S Y K R G K D L K E Q H D Q K V C ER E M Q R I T L P L S A F T N P T C E I V D E K T V V V H T S Q T P V D P Q E G T T P L M G Q A G T P G A</td><td>Cell.membrane</td><td>M</td></tr><tr><td><b>:</b></td><td class=\"no-wrap\"></td><td>...</td><td>...</td><td>...</td></tr><tr><td><b>6616</b></td><td class=\"no-wrap\">-></td><td>M K C L V A L F L S L S L V A C Q Y D D Y D T E R K N N N M L S S M N I L D L L D S F G L N I K A R I A H V R R V A G R I R L T L D I G L GN G D V E R E S E E A E G E G T D G R G G G E G E R E G W G G E R E G G E G E R E G G E G E R E G R E G E R E G K S S E S N E S P E D F I GP P V D M C A G E S R R G S P S I G C I A A E C C Q H S F Y I N S L C P G S S V C C F S M D V C D R L P V P V I P P F P T D P G T L P P P PP I P D S Q T T V S P N Q P S S Y M C H G D F M K L M P K G A D Q R T A R Q D N L A Y A G V R A S N K L V D N D L A E L N K R K D C Y V Q AG K N H C I H P A V I A A I A S R E T R G G K L L Y S T N G Y G D G G R A Y G I M Q C D G G A S G L G D I C K K Y P W D S C E H I N Q L T DI I L L N Y V N Q M K T K H P S W P A H Y Q L K G G V S A Y N A G V G N V Q T I A G M D A G T T N D D Y S N D V I A R A Q R L V N A H G W</td><td>Extracellular</td><td>S</td></tr><tr><td><b>6617</b></td><td class=\"no-wrap\">-></td><td>M E F K L L L V L C F N I G L I C S Q K T K P I G S K P I A V T T A A K T P A T S T S P V T N G T G G P K F D L A A L Q K L L A T F Q M M QG A Q G G N T A P S S S L P G V S S M P M P S A N Q I S R K S N I N A N S L Y Q P E L M N T N V P Y M G N S L Q Q S R F Q N Q F L G G Q F AP N V N V Y R T N N H I S S F E Q M R L T R S Y N L D E E Q K F K I L E E H N K F R S D V V Q K R G T G A M N V L R W S E K L A A Q A S L EV M N C S Y V N Q G R G A S L A S V Y E K Y T G S S L V S E F M S R W S D E K N R F S L G E N C S I Q Q T C R Y S Q A V W A N T K Q V G C AV Q Y C G D M S F I A C S Y S P V G N T V N Q I A F S P S R G G I C S A C T T P P N M P V R C N S D H L C E W Y</td><td>Extracellular</td><td>S</td></tr><tr><td><b>6618</b></td><td class=\"no-wrap\">-></td><td>M K L S I F F V L F F I A I A Y C Q P E F L D D E E D E V E E T L P V A E E G R E K S C I T W R N S C M H N D K G C C F P W S C V C W S Q TV S R N S S R K E K K C Q C R L W</td><td>Extracellular</td><td>S</td></tr><tr><td><b>6619</b></td><td class=\"no-wrap\">-></td><td>M A S N S A F S L F L I L L I I T Q C L S V L N A A K D F D F F Y F V Q Q W P G S Y C D T K Q S C C Y P T T G K P A A D F G I H G L W P N NN D G T Y P S N C D P N S P Y D Q S Q I S D L I S S M Q Q N W P T L A C P S G S G S T F W S H E W E K H G T C A E S V L T N Q H A Y F K K AL D L K N Q I D L L S I L Q G A D I H P D G E S Y D L V N I R N A I K S A I G Y T P W I Q C N V D Q S G N S Q L Y Q V Y I C V D G S G S S LI E C P I F P G G K C G T S I E F P T F</td><td>Extracellular</td><td>S</td></tr><tr><td><b>6620</b></td><td class=\"no-wrap\">-></td><td>M G F I T K A I P L A L A A A S V I N G A E I M E T R A G V Q T L A D K Y I V V M N D G M T D K D F D S H R S W V N R T H R R R L I R R G AK A M G G M K H T Y R F P T G L K G Y S G H F D E Q M I N E I S K R A D V K Y I E R D A R V Q I N A I E Q Q D N V P S W G L A R V G S K E PG G T T Y Y Y D G T A G E G S T A Y V I D T G T D I Q H E E F E G R A T W G A N F V D D M D M D C N G H G T H V S G T I G G K T F G V A K KS N V V A V K V L D C N G S G S N S G V I M G M E W A T K D A Q Q K G A D K A V A N M S L G G A F S Q A S N D A A A A I A K G G V F L A V AA G N D N V D A A D S S P A S E P S I C T V A A S T E Q D S K A D F S N F G Q V V D V Y A P G D S I T S A K P G G G S Q V L S G T S M A T PH V A G L G A Y L I G L G K G G G P G L C D T I K Q T A I D V I Q N P G A S T T S K L I N N G S G I G F L S F P L N I Y E E Q W S K L F D L</td><td>Extracellular</td><td>S</td></tr>\r\n",
       "</table>\r\n",
       "<p><b>6621</b> rows x <b>3</b> columns</p><p><b>0</b> missing values</p>\r\n",
       "</div>\r\n"
      ]
     },
     "metadata": {},
     "output_type": "display_data"
    }
   ],
   "source": [
    "let newIndex = removedRow |> Frame.indexRowsOrdinally\n",
    "newIndex"
   ]
  },
  {
   "cell_type": "code",
   "execution_count": null,
   "metadata": {
    "dotnet_interactive": {
     "language": "fsharp"
    },
    "vscode": {
     "languageId": "dotnet-interactive.fsharp"
    }
   },
   "outputs": [
    {
     "data": {
      "text/html": [
       "<div>\r\n",
       "<style scoped>,\r\n",
       "  .dataframe tbody tr th:only-of-type {\r\n",
       "    vertical-align: middle;\r\n",
       "  }\r\n",
       "  .dataframe tbody tr th {,\r\n",
       "    vertical-align: top\r\n",
       "  }\r\n",
       "  .dataframe thead th {\r\n",
       "    text-align: right;\r\n",
       "  }\r\n",
       "  .no-wrap {\r\n",
       "    white-space: nowrap;\r\n",
       "  }\r\n",
       "</style>\r\n",
       "<table border='1' class='dataframe'>\r\n",
       "<thead><th></th><th></th><th>input</th><th>loc</th><th>membrane</th></thead><thead><th></th><th></th><th>(string)</th><th>(string)</th><th>(string)</th></thead>\r\n",
       "<tr><td><b>0</b></td><td class=\"no-wrap\">-></td><td>M M K T L S S G N C T L N V P A K N S Y R M V V L G A S R V G K S S I V S R F L N G R F E D Q Y T P T I E D F H R K V Y N I H G D M Y Q L DI L D T S G N H P F P A M R R L S I L T G D V F I L V F S L D S R E S F D E V K R L Q K Q I L E V K S C L K N K T K E A A E L P M V I C G NK N D H S E L C R Q V P A M E A E L L V S G D E N C A Y F E V S A K K N T N V N E M F Y V L F S M A K L P H E M S P A L H H K I S V Q Y G DA F H P R P F C M R R T K V A G A Y G M V S P F A R R P S V N S D L K Y I K A K V L R E G Q A R E R D K C S I Q</td><td>Cell.membrane</td><td>M</td></tr><tr><td><b>1</b></td><td class=\"no-wrap\">-></td><td>M A K R T F S N L E T F L I F L L V M M S A I T V A L L S L L F I T S G T I E N H K D L G G H F F S T T Q S P P A T Q G S T A A Q R S T A TQ H S T A T Q S S T A T Q T S P V P L T P E S P L F Q N F S G Y H I G V G R A D C T G Q V A D I N L M G Y G K S G Q N A Q G I L T R L Y S RA F I M A E P D G S N R T V F V S I D I G M V S Q R L R L E V L N R L Q S K Y G S L Y R R D N V I L S G T H T H S G P A G Y F Q Y T V F V IA S E G F S N Q T F Q H M V T G I L K S I D I A H T N M K P G K I F I N K G N V D G V Q I N R S P Y S Y L Q N P Q S E R A R Y S S N T D K EM I V L K M V D L N G D D L G L I S W F A I H P V S M N N S N H L V N S D N V G Y A S Y L L E Q E K N K G Y L P G Q G P F V A A F A S S N LG D V S P N I L G P R C I N T G E S C D N A N S T C P I G G P S M C I A K G P G Q D M F D S T Q I I G R A M Y Q R A K E L Y A S A S Q E V TG P L A S A H Q W V D M T D V T V W L N S T H A S K T C K P A L G Y S F A A G T I D G V G G L N F T Q G K T E G D P F W D T I R D Q I L G KP S E E I K E C H K P K P I L L H T G E L S K P H P W H P D I V D V Q I I T L G S L A I T A I P G E F T T M S G R R L R E A V Q A E F A S HG M Q N M T V V I S G L C N V Y T H Y I T T Y E E Y Q A Q R Y E A A S T I Y G P H T L S A Y I Q L F R N L A K A I A T D T V A N L S R G P EP P F F K Q L I V P L I P S I V D R A P K G R T F G D V L Q P A K P E Y R V G E V A E V I F V G A N P K N S V Q N Q T H Q T F L T V E K Y EA T S T S W Q I V C N D A S W E T R F Y W H K G L L G L S N A T V E W H I P D T A Q P G I Y R I R Y F G H N R K Q D I L K P A V I L S F E GT S P A F E V V T I</td><td>Cell.membrane</td><td>M</td></tr><tr><td><b>2</b></td><td class=\"no-wrap\">-></td><td>M G N C Q A G H N L H L C L A H H P P L V C A T L I L L L L G L S G L G L G S F L L T H R T G L R S P D I P Q D W V S F L R S F G Q L T L CP R N G T V T G K W R G S H V V G L L T T L N F G D G P D R N K T R T F Q A T V L G S Q M G L K G S S A G Q L V L I T A R V T T E R T A G TC L Y F S A V P G I L P S S Q P P I S C S E E G A G N A T L S P R M G E E C V S V W S H E G L V L T K L L T S E E L A L C G S R L L V L G SF L L L F C G L L C C V T A M C F H P R R E S H W S R T R L</td><td>Cell.membrane</td><td>M</td></tr><tr><td><b>3</b></td><td class=\"no-wrap\">-></td><td>M D P S K Q G T L N R V E N S V Y R T A F K L R S V Q T L C Q L D L M D S F L I Q Q V L W R G R S G E S T E T S I S V Q Q L F Q E L R E L FQ R T G M G N A A Q V H P R A P E L T L S L L M A M F D R T G S G I L K R Q P V A A A L V A L S G D S P L T K Y R A F F Q L Y A E K N R R GD D S Q A R M T R R V L R A L L T D L Q Q I P T V V G E S Y T L R P V E S A I H S C F R G V L S S G I K E E K F L S W A Q S E P L V L L W LP T C Y R L S A A E T V T H P V R C S V C R T F P I I G L R Y H C L K C L D F D I C E L C F L S G L H K N S H E K S H T V M E E C V Q M S AT E N T K L L F R S L R N N L P Q K R Q R V G A V G R Q W L L D Q L A S R D S A S H G P A R L C L Q Y K C P K A P G Y A S S R R A V E T A AT G V L C Q R P S P A L Q G N H N R H G Q T I V N I K N E L W R T R D S L N T L L R E R R L L R K Q L H R Y K Q K L Q G T Y A L Q E E Q N CR F E T K I R E L T T N Q D N L W T K L Q Q M R R D L Q A M L Q P L H P S S S P Q T T A S K I F H S L P D D G I R R G G D S S H I K R V T RD G P E W E L L P N S A K V D R K H K C Q A S S G K A L P D S E P Q E I I L Q S T R K Q N H P Q K M L S K V H S S P S A H Q Q D T L Q I P PT E V K I P A Q T L S A G K E M E S C S E K R N N L E D E E L Q A L L P R L L D A F D L D S P T G L Q P L M D M E L Y G R A Q Q V C R A F SV L V D Q I T L P T W S E E E S R L K G P L V</td><td>Cell.membrane</td><td>M</td></tr><tr><td><b>4</b></td><td class=\"no-wrap\">-></td><td>M L L A W V Q A F L V S N M L L A E A Y G S G G C F W D N G H L Y R E D Q T S P A P G L R C L N W L D A Q S G L A S A P V S G A G N H S Y CR N P D E D P R G P W C Y V S G E A G V P E K R P C E D L R C P E T T S Q A L P A F T T E I Q E A S E G P G A D E V Q V F A P A N A L P A RS E A A A V Q P V I G I S Q R V R M N S K E K K D L G T L G Y V L G I T M M V I I I A I G A G I I L G Y S Y K R G K D L K E Q H D Q K V C ER E M Q R I T L P L S A F T N P T C E I V D E K T V V V H T S Q T P V D P Q E G T T P L M G Q A G T P G A</td><td>Cell.membrane</td><td>M</td></tr><tr><td><b>:</b></td><td class=\"no-wrap\"></td><td>...</td><td>...</td><td>...</td></tr><tr><td><b>6617</b></td><td class=\"no-wrap\">-></td><td>M K C L V A L F L S L S L V A C Q Y D D Y D T E R K N N N M L S S M N I L D L L D S F G L N I K A R I A H V R R V A G R I R L T L D I G L GN G D V E R E S E E A E G E G T D G R G G G E G E R E G W G G E R E G G E G E R E G G E G E R E G R E G E R E G K S S E S N E S P E D F I GP P V D M C A G E S R R G S P S I G C I A A E C C Q H S F Y I N S L C P G S S V C C F S M D V C D R L P V P V I P P F P T D P G T L P P P PP I P D S Q T T V S P N Q P S S Y M C H G D F M K L M P K G A D Q R T A R Q D N L A Y A G V R A S N K L V D N D L A E L N K R K D C Y V Q AG K N H C I H P A V I A A I A S R E T R G G K L L Y S T N G Y G D G G R A Y G I M Q C D G G A S G L G D I C K K Y P W D S C E H I N Q L T DI I L L N Y V N Q M K T K H P S W P A H Y Q L K G G V S A Y N A G V G N V Q T I A G M D A G T T N D D Y S N D V I A R A Q R L V N A H G W</td><td>Extracellular</td><td>S</td></tr><tr><td><b>6618</b></td><td class=\"no-wrap\">-></td><td>M E F K L L L V L C F N I G L I C S Q K T K P I G S K P I A V T T A A K T P A T S T S P V T N G T G G P K F D L A A L Q K L L A T F Q M M QG A Q G G N T A P S S S L P G V S S M P M P S A N Q I S R K S N I N A N S L Y Q P E L M N T N V P Y M G N S L Q Q S R F Q N Q F L G G Q F AP N V N V Y R T N N H I S S F E Q M R L T R S Y N L D E E Q K F K I L E E H N K F R S D V V Q K R G T G A M N V L R W S E K L A A Q A S L EV M N C S Y V N Q G R G A S L A S V Y E K Y T G S S L V S E F M S R W S D E K N R F S L G E N C S I Q Q T C R Y S Q A V W A N T K Q V G C AV Q Y C G D M S F I A C S Y S P V G N T V N Q I A F S P S R G G I C S A C T T P P N M P V R C N S D H L C E W Y</td><td>Extracellular</td><td>S</td></tr><tr><td><b>6619</b></td><td class=\"no-wrap\">-></td><td>M K L S I F F V L F F I A I A Y C Q P E F L D D E E D E V E E T L P V A E E G R E K S C I T W R N S C M H N D K G C C F P W S C V C W S Q TV S R N S S R K E K K C Q C R L W</td><td>Extracellular</td><td>S</td></tr><tr><td><b>6620</b></td><td class=\"no-wrap\">-></td><td>M A S N S A F S L F L I L L I I T Q C L S V L N A A K D F D F F Y F V Q Q W P G S Y C D T K Q S C C Y P T T G K P A A D F G I H G L W P N NN D G T Y P S N C D P N S P Y D Q S Q I S D L I S S M Q Q N W P T L A C P S G S G S T F W S H E W E K H G T C A E S V L T N Q H A Y F K K AL D L K N Q I D L L S I L Q G A D I H P D G E S Y D L V N I R N A I K S A I G Y T P W I Q C N V D Q S G N S Q L Y Q V Y I C V D G S G S S LI E C P I F P G G K C G T S I E F P T F</td><td>Extracellular</td><td>S</td></tr><tr><td><b>6621</b></td><td class=\"no-wrap\">-></td><td>M G F I T K A I P L A L A A A S V I N G A E I M E T R A G V Q T L A D K Y I V V M N D G M T D K D F D S H R S W V N R T H R R R L I R R G AK A M G G M K H T Y R F P T G L K G Y S G H F D E Q M I N E I S K R A D V K Y I E R D A R V Q I N A I E Q Q D N V P S W G L A R V G S K E PG G T T Y Y Y D G T A G E G S T A Y V I D T G T D I Q H E E F E G R A T W G A N F V D D M D M D C N G H G T H V S G T I G G K T F G V A K KS N V V A V K V L D C N G S G S N S G V I M G M E W A T K D A Q Q K G A D K A V A N M S L G G A F S Q A S N D A A A A I A K G G V F L A V AA G N D N V D A A D S S P A S E P S I C T V A A S T E Q D S K A D F S N F G Q V V D V Y A P G D S I T S A K P G G G S Q V L S G T S M A T PH V A G L G A Y L I G L G K G G G P G L C D T I K Q T A I D V I Q N P G A S T T S K L I N N G S G I G F L S F P L N I Y E E Q W S K L F D L</td><td>Extracellular</td><td>S</td></tr>\r\n",
       "</table>\r\n",
       "<p><b>6621</b> rows x <b>3</b> columns</p><p><b>0</b> missing values</p>\r\n",
       "</div>\r\n"
      ]
     },
     "metadata": {},
     "output_type": "display_data"
    }
   ],
   "source": [
    "//let removedRow = deeplocTrain |>Frame.filterRows (fun index c -> index <> 6007)\n",
    "//removedRow"
   ]
  },
  {
   "cell_type": "code",
   "execution_count": null,
   "metadata": {
    "dotnet_interactive": {
     "language": "fsharp"
    },
    "vscode": {
     "languageId": "dotnet-interactive.fsharp"
    }
   },
   "outputs": [],
   "source": [
    "let cleanJoin= Frame.join JoinKind.Outer newIndex embedTrain"
   ]
  },
  {
   "cell_type": "code",
   "execution_count": null,
   "metadata": {
    "dotnet_interactive": {
     "language": "fsharp"
    },
    "vscode": {
     "languageId": "dotnet-interactive.fsharp"
    }
   },
   "outputs": [],
   "source": [
    "let saveCsv = cleanJoin.SaveCsv(\"/Users/christelsakhel/Desktop/VP1 bioinformatik/TrainNewFrame.csv\")"
   ]
  }
 ],
 "metadata": {
  "kernelspec": {
   "display_name": ".NET (C#)",
   "language": "C#",
   "name": ".net-csharp"
  },
  "language_info": {
   "file_extension": ".cs",
   "mimetype": "text/x-csharp",
   "name": "C#",
   "pygments_lexer": "csharp",
   "version": "9.0"
  },
  "orig_nbformat": 4
 },
 "nbformat": 4,
 "nbformat_minor": 2
}
